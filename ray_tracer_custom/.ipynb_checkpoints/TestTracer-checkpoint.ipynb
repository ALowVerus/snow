{
 "cells": [
  {
   "cell_type": "markdown",
   "metadata": {},
   "source": [
    "## Ray Tracer Suite.\n",
    "\n",
    "Still getting the hang of this whole C++ notebook thing. To start off, here's an image class, a decimation function to show that images can be manipulated, and an imported photo.\n",
    "\n",
    "ImageMagick is installed, but it looks like actually calling it requires some sort of call to ImageMagick++-config which I can't find details for online. Instead, I'm using jpeglib, a built-in jpeg manipulator for C++. \n",
    "\n",
    "The C++ kernel is from Miniconda, and its libraries are located at /home/f0031qg/miniconda3/include.\n",
    "\n",
    "I've tried out:\n",
    "- CImg\n",
    "- ImageMagick\n",
    "- GraphicsMagick"
   ]
  },
  {
   "cell_type": "markdown",
   "metadata": {},
   "source": [
    "For more details on nbextensions, see here:\n",
    "- https://jupyter-contrib-nbextensions.readthedocs.io/en/latest/install.html\n",
    "\n",
    "For a video introduction:\n",
    "- https://www.youtube.com/watch?v=UzfYG8GdB3I\n",
    "\n",
    "To edit jupyter settings, run:\n",
    "- cat /home/f0031qg/.jupyter/jupyter_notebook_config.py"
   ]
  },
  {
   "cell_type": "code",
   "execution_count": 1,
   "metadata": {
    "code_folding": [
     0
    ]
   },
   "outputs": [],
   "source": [
    "#include \"list_of_includables.h\""
   ]
  },
  {
   "cell_type": "code",
   "execution_count": 2,
   "metadata": {
    "code_folding": [
     0
    ]
   },
   "outputs": [],
   "source": [
    "hittable_list random_scene() {\n",
    "    hittable_list world;\n",
    "    \n",
    "    auto checker = std::make_shared<checker_texture>(color(0.2, 0.3, 0.1), color(0.9, 0.9, 0.9));\n",
    "    world.add(std::make_shared<sphere>(point3(0,-1000,0), 1000, std::make_shared<lambertian>(checker)));\n",
    "\n",
    "    int bound = 7;\n",
    "    for (int a = -bound; a < bound; a++) {\n",
    "        for (int b = -bound; b < bound; b++) {\n",
    "            auto choose_mat = random_double();\n",
    "            point3 center(a + 0.9*random_double(), 0.2, b + 0.9*random_double());\n",
    "\n",
    "            if ((center - point3(4, 0.2, 0)).length() > 0.9) {\n",
    "                if (choose_mat < 0.8) {\n",
    "                    // diffuse\n",
    "                    auto albedo = color::random() * color::random();\n",
    "                    std::shared_ptr<lambertian> lambert_mat = std::make_shared<lambertian>(albedo);\n",
    "                    auto center2 = center + vec3(0, random_double(0,.5), 0);\n",
    "                    world.add(std::make_shared<moving_sphere>(center, center2, 0.0, 1.0, 0.2, lambert_mat));\n",
    "                } else if (choose_mat < 0.95) {\n",
    "                    // metal\n",
    "                    auto albedo = color::random(0.5, 1);\n",
    "                    auto fuzz = random_double(0, 0.5);\n",
    "                    std::shared_ptr<metal> metal_mat = std::make_shared<metal>(albedo, fuzz);\n",
    "                    world.add(std::make_shared<sphere>(center, 0.2, metal_mat));\n",
    "                } else {\n",
    "                    // glass\n",
    "                    std::shared_ptr<dielectric> dia_mat = std::make_shared<dielectric>(1.5);\n",
    "                    world.add(std::make_shared<sphere>(center, 0.2, dia_mat));\n",
    "                }\n",
    "            }\n",
    "        }\n",
    "    }\n",
    "\n",
    "    auto material1 = std::make_shared<dielectric>(1.5);\n",
    "    world.add(std::make_shared<sphere>(point3(0, 1, 0), 1.0, material1));\n",
    "\n",
    "    auto material2 = std::make_shared<lambertian>(color(0.4, 0.2, 0.1));\n",
    "    world.add(std::make_shared<sphere>(point3(-4, 1, 0), 1.0, material2));\n",
    "\n",
    "    auto material3 = std::make_shared<metal>(color(0.7, 0.6, 0.5), 0.0);\n",
    "    world.add(std::make_shared<sphere>(point3(4, 1, 0), 1.0, material3));\n",
    "\n",
    "    return world;\n",
    "}"
   ]
  },
  {
   "cell_type": "code",
   "execution_count": 3,
   "metadata": {
    "code_folding": [
     0
    ]
   },
   "outputs": [],
   "source": [
    "hittable_list two_spheres() {\n",
    "    hittable_list objects;\n",
    "\n",
    "    auto checker = std::make_shared<checker_texture>(color(0.2, 0.3, 0.1), color(0.9, 0.9, 0.9));\n",
    "\n",
    "    objects.add(std::make_shared<sphere>(point3(0,-10, 0), 10, std::make_shared<lambertian>(checker)));\n",
    "    objects.add(std::make_shared<sphere>(point3(0, 10, 0), 10, std::make_shared<lambertian>(checker)));\n",
    "\n",
    "    return objects;\n",
    "}"
   ]
  },
  {
   "cell_type": "code",
   "execution_count": 4,
   "metadata": {
    "code_folding": []
   },
   "outputs": [
    {
     "name": "stderr",
     "output_type": "stream",
     "text": [
      "\u001b[1minput_line_10:10:47: \u001b[0m\u001b[0;1;31merror: \u001b[0m\u001b[1mno member named 'bounding_box' in 'std::shared_ptr<hittable>'; did you mean to\n",
      "      use '->' instead of '.'?\u001b[0m\n",
      "    aabb outer_box = covering_hlist.objects[0].bounding_box;\n",
      "\u001b[0;1;32m                                              ^\n",
      "\u001b[0m\u001b[0;32m                                              ->\n",
      "\u001b[0m\u001b[1minput_line_10:10:48: \u001b[0m\u001b[0;1;31merror: \u001b[0m\u001b[1mreference to non-static member function must be called\u001b[0m\n",
      "    aabb outer_box = covering_hlist.objects[0].bounding_box;\n",
      "\u001b[0;1;32m                     ~~~~~~~~~~~~~~~~~~~~~~~~~~^~~~~~~~~~~~\n",
      "\u001b[0m"
     ]
    },
    {
     "ename": "Interpreter Error",
     "evalue": "",
     "output_type": "error",
     "traceback": [
      "Interpreter Error: "
     ]
    }
   ],
   "source": [
    "hittable_list two_perlin_spheres() {\n",
    "    hittable_list objects;\n",
    "\n",
    "    auto marbletext = std::make_shared<marble_texture>(4);\n",
    "    auto turbtext = std::make_shared<turb_texture>(4);\n",
    "    objects.add(std::make_shared<sphere>(point3(0,-1000,0), 1000, std::make_shared<lambertian>(marbletext)));\n",
    "    objects.add(std::make_shared<sphere>(point3(0, 2, 0), 2, std::make_shared<lambertian>(turbtext)));\n",
    "\n",
    "    auto test_bvh = std::make_shared<bvh_node>(objects, 0.0, 1.0);\n",
    "    auto covering_hlist = hittable_list(test_bvh);\n",
    "    \n",
    "    aabb outer_box; \n",
    "    covering_hlist.objects[0].bounding_box(0.0, 1.0, outer_box);\n",
    "    std::cout << outer_box.minimum.x() << \",\" << outer_box.minimum.y() << \",\" << outer_box.minimum.z();\n",
    "    std::cout << \"\\n\";\n",
    "    \n",
    "    return objects;\n",
    "}"
   ]
  },
  {
   "cell_type": "code",
   "execution_count": null,
   "metadata": {
    "code_folding": [
     0
    ]
   },
   "outputs": [],
   "source": [
    "hittable_list earth() {\n",
    "    auto earth_texture = std::make_shared<image_texture>(\"images/earthmap.ppm\");\n",
    "    auto earth_surface = std::make_shared<lambertian>(earth_texture);\n",
    "    auto globe = std::make_shared<sphere>(point3(0,0,0), 2, earth_surface);\n",
    "\n",
    "    return hittable_list(globe);\n",
    "}"
   ]
  },
  {
   "cell_type": "code",
   "execution_count": null,
   "metadata": {
    "code_folding": [
     0
    ]
   },
   "outputs": [],
   "source": [
    "hittable_list simple_light() {\n",
    "    hittable_list objects;\n",
    "\n",
    "    auto mtext = std::make_shared<marble_texture>(4);\n",
    "    objects.add(std::make_shared<sphere>(point3(0,-1000,0), 1000, std::make_shared<lambertian>(mtext)));\n",
    "    objects.add(std::make_shared<sphere>(point3(0,2,0), 2, std::make_shared<lambertian>(mtext)));\n",
    "\n",
    "    auto difflight = std::make_shared<diffuse_light>(color(4,4,4));\n",
    "    objects.add(std::make_shared<xy_rect>(3, 5, 1, 3, -2, difflight));\n",
    "\n",
    "    return objects;\n",
    "}"
   ]
  },
  {
   "cell_type": "code",
   "execution_count": null,
   "metadata": {
    "code_folding": [
     0
    ]
   },
   "outputs": [],
   "source": [
    "hittable_list cornell_box() {\n",
    "    hittable_list objects;\n",
    "\n",
    "    auto red   = std::make_shared<lambertian>(color(.65, .05, .05));\n",
    "    auto white = std::make_shared<lambertian>(color(.73, .73, .73));\n",
    "    auto green = std::make_shared<lambertian>(color(.12, .45, .15));\n",
    "    auto light = std::make_shared<diffuse_light>(color(15, 15, 15));\n",
    "\n",
    "    objects.add(std::make_shared<yz_rect>(0, 555, 0, 555, 555, green));\n",
    "    objects.add(std::make_shared<yz_rect>(0, 555, 0, 555, 0, red));\n",
    "    objects.add(std::make_shared<xz_rect>(213, 343, 227, 332, 554, light));\n",
    "    objects.add(std::make_shared<xz_rect>(0, 555, 0, 555, 0, white));\n",
    "    objects.add(std::make_shared<xz_rect>(0, 555, 0, 555, 555, white));\n",
    "    objects.add(std::make_shared<xy_rect>(0, 555, 0, 555, 555, white));\n",
    "    \n",
    "    std::shared_ptr<hittable> box1 = std::make_shared<box>(point3(0, 0, 0), point3(165, 330, 165), white);\n",
    "    box1 = std::make_shared<rotate_y>(box1, 15);\n",
    "    box1 = std::make_shared<translate>(box1, vec3(265,0,295));\n",
    "\n",
    "    std::shared_ptr<hittable> box2 = std::make_shared<box>(point3(0,0,0), point3(165,165,165), white);\n",
    "    box2 = std::make_shared<rotate_y>(box2, -18);\n",
    "    box2 = std::make_shared<translate>(box2, vec3(130,0,65));\n",
    "    \n",
    "    objects.add(std::make_shared<constant_medium>(box1, 0.01, color(0,0,0)));\n",
    "    objects.add(std::make_shared<constant_medium>(box2, 0.01, color(1,1,1)));\n",
    "    \n",
    "    return objects;\n",
    "}"
   ]
  },
  {
   "cell_type": "code",
   "execution_count": null,
   "metadata": {
    "code_folding": [
     0
    ]
   },
   "outputs": [],
   "source": [
    "hittable_list final_scene() {\n",
    "    hittable_list boxes1;\n",
    "    auto ground = std::make_shared<lambertian>(color(0.48, 0.83, 0.53));\n",
    "\n",
    "    const int boxes_per_side = 20;\n",
    "    const float total_width = 2000.0;\n",
    "    const float side_length = total_width / boxes_per_side;\n",
    "    for (int i = 0; i < boxes_per_side; i++) {\n",
    "        for (int j = 0; j < boxes_per_side; j++) {\n",
    "            auto x0 = -(total_width/2) + i*side_length;\n",
    "            auto z0 = -(total_width/2) + j*side_length;\n",
    "            auto y0 = 0.0;\n",
    "            auto x1 = x0 + side_length;\n",
    "            auto y1 = random_double(1,101);\n",
    "            auto z1 = z0 + side_length;\n",
    "\n",
    "            boxes1.add(std::make_shared<box>(point3(x0,y0,z0), point3(x1,y1,z1), ground));\n",
    "        }\n",
    "    }\n",
    "\n",
    "    hittable_list objects;\n",
    "\n",
    "    objects.add(std::make_shared<bvh_node>(boxes1, 0, 1));\n",
    "\n",
    "    auto light = std::make_shared<diffuse_light>(color(7, 7, 7));\n",
    "    objects.add(std::make_shared<xz_rect>(123, 423, 147, 412, 554, light));\n",
    "\n",
    "    auto center1 = point3(400, 400, 200);\n",
    "    auto center2 = center1 + vec3(30,0,0);\n",
    "    auto moving_sphere_material = std::make_shared<lambertian>(color(0.7, 0.3, 0.1));\n",
    "    objects.add(std::make_shared<moving_sphere>(center1, center2, 0, 1, 50, moving_sphere_material));\n",
    "\n",
    "    objects.add(std::make_shared<sphere>(point3(260, 150, 45), 50, std::make_shared<dielectric>(1.5)));\n",
    "    objects.add(std::make_shared<sphere>(\n",
    "        point3(0, 150, 145), 50, std::make_shared<metal>(color(0.8, 0.8, 0.9), 1.0)\n",
    "    ));\n",
    "\n",
    "    auto boundary = std::make_shared<sphere>(point3(360,150,145), 70, std::make_shared<dielectric>(1.5));\n",
    "    objects.add(boundary);\n",
    "    objects.add(std::make_shared<constant_medium>(boundary, 0.2, color(0.2, 0.4, 0.9)));\n",
    "    boundary = std::make_shared<sphere>(point3(0, 0, 0), 5000, std::make_shared<dielectric>(1.5));\n",
    "    objects.add(std::make_shared<constant_medium>(boundary, .0001, color(1,1,1)));\n",
    "\n",
    "    auto emat = std::make_shared<lambertian>(std::make_shared<image_texture>(\"images/earthmap.ppm\"));\n",
    "    objects.add(std::make_shared<sphere>(point3(400,200,400), 100, emat));\n",
    "    auto pertext = std::make_shared<noise_texture>(0.1);\n",
    "    objects.add(std::make_shared<sphere>(point3(220,280,300), 80, std::make_shared<lambertian>(pertext)));\n",
    "\n",
    "    hittable_list boxes2;\n",
    "    auto white = std::make_shared<lambertian>(color(.73, .73, .73));\n",
    "    int ns = 1000;\n",
    "    for (int j = 0; j < ns; j++) {\n",
    "        boxes2.add(std::make_shared<sphere>(point3::random(0,165), 10, white));\n",
    "    }\n",
    "\n",
    "    objects.add(std::make_shared<translate>(\n",
    "        std::make_shared<rotate_y>(\n",
    "            std::make_shared<bvh_node>(boxes2, 0.0, 1.0), 15),\n",
    "            vec3(-100,270,395)\n",
    "        )\n",
    "    );\n",
    "\n",
    "    return objects;\n",
    "}"
   ]
  },
  {
   "cell_type": "code",
   "execution_count": null,
   "metadata": {
    "code_folding": [
     0
    ],
    "scrolled": false
   },
   "outputs": [],
   "source": [
    "im::image next_test(int choice) {\n",
    "    \n",
    "    // Image\n",
    "\n",
    "    float aspect_ratio = 16.0 / 9.0;\n",
    "    const float gamma = 2;\n",
    "    int image_width = 600;\n",
    "    int samples_per_pixel = 40;\n",
    "    int max_depth = 20;\n",
    "\n",
    "    // World\n",
    "\n",
    "    point3 lookfrom;\n",
    "    point3 lookat;\n",
    "    auto vfov = 10.0;\n",
    "    auto aperture = 0.0;\n",
    "    color background(0,0,0);\n",
    "    \n",
    "    hittable_list world;\n",
    "\n",
    "    switch (choice) {\n",
    "        case 1:\n",
    "            world = random_scene();\n",
    "            background = color(0.70, 0.80, 1.00);\n",
    "            lookfrom = point3(13,2,3);\n",
    "            lookat = point3(0,0,0);\n",
    "            vfov = 20.0;\n",
    "            aperture = 0.1;\n",
    "            image_width = 80;\n",
    "            samples_per_pixel = 5;\n",
    "            max_depth = 20;\n",
    "            break;\n",
    "\n",
    "        case 2:\n",
    "            world = two_spheres();\n",
    "            background = color(0.70, 0.80, 1.00);\n",
    "            lookfrom = point3(13,2,3);\n",
    "            lookat = point3(0,0,0);\n",
    "            vfov = 20.0;\n",
    "            image_width = 300;\n",
    "            samples_per_pixel = 10;\n",
    "            max_depth = 50;\n",
    "            break;\n",
    "            \n",
    "        case 3:\n",
    "            world = two_perlin_spheres();\n",
    "            background = color(0.70, 0.80, 1.00);\n",
    "            lookfrom = point3(13,2,3);\n",
    "            lookat = point3(0,0,0);\n",
    "            vfov = 20.0;\n",
    "            image_width = 300;\n",
    "            samples_per_pixel = 10;\n",
    "            max_depth = 50;\n",
    "            break;\n",
    "            \n",
    "        case 4:\n",
    "            world = earth();\n",
    "            background = color(0.70, 0.80, 1.00);\n",
    "            lookfrom = point3(13,2,3);\n",
    "            lookat = point3(0,0,0);\n",
    "            vfov = 20.0;\n",
    "            break;\n",
    "        \n",
    "        case 5:\n",
    "            world = simple_light();\n",
    "            background = color(0,0,0);\n",
    "            samples_per_pixel = 100;\n",
    "            lookfrom = point3(26,3,6);\n",
    "            lookat = point3(0,2,0);\n",
    "            vfov = 20.0;\n",
    "            break;\n",
    "            \n",
    "        case 6:\n",
    "            world = cornell_box();\n",
    "            aspect_ratio = 1.0;\n",
    "            image_width = 400;\n",
    "            samples_per_pixel = 20;\n",
    "            background = color(0,0,0);\n",
    "            lookfrom = point3(278, 278, -800);\n",
    "            lookat = point3(278, 278, 0);\n",
    "            vfov = 40.0;\n",
    "            break;\n",
    "            \n",
    "        default:\n",
    "        case 7:\n",
    "            world = final_scene();\n",
    "            aspect_ratio = 1.0;\n",
    "            image_width = 200;\n",
    "            samples_per_pixel = 200;\n",
    "            background = color(0,0,0);\n",
    "            lookfrom = point3(478, 278, -600);\n",
    "            lookat = point3(278, 278, 0);\n",
    "            vfov = 40.0;\n",
    "            break;\n",
    "    }  \n",
    "    \n",
    "    // Camera\n",
    "    \n",
    "    vec3 vup(0,1,0);\n",
    "    auto dist_to_focus = 10.0;\n",
    "    const int image_height = static_cast<int>(image_width / aspect_ratio);\n",
    "\n",
    "    camera cam(lookfrom, lookat, vup, vfov, aspect_ratio, aperture, dist_to_focus, 0.0, 1.0);\n",
    "        \n",
    "    // Render\n",
    "\n",
    "    std::stringstream strm;\n",
    "    strm << \"P3\\n\" << image_width << \" \" << image_height << \"\\n255\\n\";\n",
    "\n",
    "    for (int j = image_height-1; j >= 0; --j) {\n",
    "        for (int i = 0; i < image_width; ++i) {\n",
    "            color pixel_color(0, 0, 0);\n",
    "            for (int s = 0; s < samples_per_pixel; ++s) {\n",
    "                auto u = (i + random_double()) / (image_width-1);\n",
    "                auto v = (j + random_double()) / (image_height-1);\n",
    "                ray r = cam.get_ray(u, v);\n",
    "                pixel_color += ray_color(r, background, world, max_depth);\n",
    "            }\n",
    "            pixel_color /= samples_per_pixel;\n",
    "            write_color(strm, pixel_color, gamma);\n",
    "        }\n",
    "    }\n",
    "\n",
    "    std::cout << \"Done.\\n\";\n",
    "    \n",
    "    return utils::display_ppm_stream(strm.str());\n",
    "}"
   ]
  },
  {
   "cell_type": "code",
   "execution_count": null,
   "metadata": {
    "code_folding": [
     1
    ]
   },
   "outputs": [],
   "source": [
    "#include <time.h>\n",
    "im::image actually_run_test(int choice) {\n",
    "    time_t start = time(0);\n",
    "    im::image my_next_img = next_test(choice);\n",
    "    double seconds_since_start = difftime( time(0), start);\n",
    "    std::cout << \"Time: \" << seconds_since_start;\n",
    "    return my_next_img;\n",
    "}"
   ]
  },
  {
   "cell_type": "code",
   "execution_count": null,
   "metadata": {},
   "outputs": [],
   "source": [
    "im::image res3 = actually_run_test(3);\n",
    "res3"
   ]
  },
  {
   "cell_type": "code",
   "execution_count": null,
   "metadata": {},
   "outputs": [],
   "source": [
    "// im::image res5 = actually_run_test(5);\n",
    "// res5"
   ]
  },
  {
   "cell_type": "code",
   "execution_count": null,
   "metadata": {},
   "outputs": [],
   "source": [
    "// im::image res6 = actually_run_test(6);\n",
    "// res6"
   ]
  },
  {
   "cell_type": "code",
   "execution_count": null,
   "metadata": {},
   "outputs": [],
   "source": [
    "// im::image res7 = actually_run_test(7);\n",
    "// res7"
   ]
  },
  {
   "cell_type": "code",
   "execution_count": null,
   "metadata": {},
   "outputs": [],
   "source": []
  },
  {
   "cell_type": "code",
   "execution_count": null,
   "metadata": {},
   "outputs": [],
   "source": []
  }
 ],
 "metadata": {
  "kernelspec": {
   "display_name": "C++14",
   "language": "C++14",
   "name": "xcpp14"
  },
  "language_info": {
   "codemirror_mode": "text/x-c++src",
   "file_extension": ".cpp",
   "mimetype": "text/x-c++src",
   "name": "c++",
   "version": "14"
  }
 },
 "nbformat": 4,
 "nbformat_minor": 4
}
